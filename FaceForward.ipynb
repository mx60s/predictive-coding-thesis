{
  "cells": [
    {
      "cell_type": "code",
      "execution_count": null,
      "metadata": {
        "colab": {
          "base_uri": "https://localhost:8080/"
        },
        "id": "Bib_vX7a4y4F",
        "outputId": "7b62a9c0-f2f9-4e4f-eec5-fd2e0ea9c7c5"
      },
      "outputs": [
        {
          "output_type": "stream",
          "name": "stdout",
          "text": [
            "Mounted at /content/gdrive\n"
          ]
        }
      ],
      "source": [
        "from google.colab import drive\n",
        "drive.mount('/content/gdrive')"
      ],
      "id": "Bib_vX7a4y4F"
    },
    {
      "cell_type": "code",
      "source": [
        "%cd /content/gdrive/MyDrive/thesis/predictive-coding-thesis/src\n",
        "! git add FaceForward.ipynb\n",
        "! git commit -m \"modified to have checkpointing\""
      ],
      "metadata": {
        "colab": {
          "base_uri": "https://localhost:8080/"
        },
        "id": "wHOzYXEvy-7c",
        "outputId": "2c11ea68-09a9-4222-b1a0-55ed237fd741"
      },
      "id": "wHOzYXEvy-7c",
      "execution_count": null,
      "outputs": [
        {
          "output_type": "stream",
          "name": "stdout",
          "text": [
            "/content/gdrive/MyDrive/thesis/predictive-coding-thesis/src\n",
            "Author identity unknown\n",
            "\n",
            "*** Please tell me who you are.\n",
            "\n",
            "Run\n",
            "\n",
            "  git config --global user.email \"you@example.com\"\n",
            "  git config --global user.name \"Your Name\"\n",
            "\n",
            "to set your account's default identity.\n",
            "Omit --global to set the identity only in this repository.\n",
            "\n",
            "fatal: unable to auto-detect email address (got 'root@d6be8f96499b.(none)')\n"
          ]
        }
      ]
    },
    {
      "cell_type": "code",
      "source": [
        "! git push"
      ],
      "metadata": {
        "colab": {
          "base_uri": "https://localhost:8080/"
        },
        "id": "M4Z0_aR2zi8b",
        "outputId": "e925e6b5-6845-48fe-8b23-00f6309a1f67"
      },
      "id": "M4Z0_aR2zi8b",
      "execution_count": null,
      "outputs": [
        {
          "output_type": "stream",
          "name": "stdout",
          "text": [
            "fatal: could not read Username for 'https://github.com': No such device or address\n"
          ]
        }
      ]
    },
    {
      "cell_type": "code",
      "execution_count": null,
      "metadata": {
        "colab": {
          "base_uri": "https://localhost:8080/"
        },
        "id": "ydyJB0ga55Hd",
        "outputId": "e29e8273-b929-4a02-a194-be941968bbef"
      },
      "outputs": [
        {
          "output_type": "stream",
          "name": "stdout",
          "text": [
            "Collecting torchmetrics\n",
            "  Downloading torchmetrics-1.3.1-py3-none-any.whl (840 kB)\n",
            "\u001b[2K     \u001b[90m━━━━━━━━━━━━━━━━━━━━━━━━━━━━━━━━━━━━━━━━\u001b[0m \u001b[32m840.4/840.4 kB\u001b[0m \u001b[31m12.2 MB/s\u001b[0m eta \u001b[36m0:00:00\u001b[0m\n",
            "\u001b[?25hRequirement already satisfied: numpy>1.20.0 in /usr/local/lib/python3.10/dist-packages (from torchmetrics) (1.25.2)\n",
            "Requirement already satisfied: packaging>17.1 in /usr/local/lib/python3.10/dist-packages (from torchmetrics) (23.2)\n",
            "Requirement already satisfied: torch>=1.10.0 in /usr/local/lib/python3.10/dist-packages (from torchmetrics) (2.1.0+cu121)\n",
            "Collecting lightning-utilities>=0.8.0 (from torchmetrics)\n",
            "  Downloading lightning_utilities-0.10.1-py3-none-any.whl (24 kB)\n",
            "Requirement already satisfied: setuptools in /usr/local/lib/python3.10/dist-packages (from lightning-utilities>=0.8.0->torchmetrics) (67.7.2)\n",
            "Requirement already satisfied: typing-extensions in /usr/local/lib/python3.10/dist-packages (from lightning-utilities>=0.8.0->torchmetrics) (4.9.0)\n",
            "Requirement already satisfied: filelock in /usr/local/lib/python3.10/dist-packages (from torch>=1.10.0->torchmetrics) (3.13.1)\n",
            "Requirement already satisfied: sympy in /usr/local/lib/python3.10/dist-packages (from torch>=1.10.0->torchmetrics) (1.12)\n",
            "Requirement already satisfied: networkx in /usr/local/lib/python3.10/dist-packages (from torch>=1.10.0->torchmetrics) (3.2.1)\n",
            "Requirement already satisfied: jinja2 in /usr/local/lib/python3.10/dist-packages (from torch>=1.10.0->torchmetrics) (3.1.3)\n",
            "Requirement already satisfied: fsspec in /usr/local/lib/python3.10/dist-packages (from torch>=1.10.0->torchmetrics) (2023.6.0)\n",
            "Requirement already satisfied: triton==2.1.0 in /usr/local/lib/python3.10/dist-packages (from torch>=1.10.0->torchmetrics) (2.1.0)\n",
            "Requirement already satisfied: MarkupSafe>=2.0 in /usr/local/lib/python3.10/dist-packages (from jinja2->torch>=1.10.0->torchmetrics) (2.1.5)\n",
            "Requirement already satisfied: mpmath>=0.19 in /usr/local/lib/python3.10/dist-packages (from sympy->torch>=1.10.0->torchmetrics) (1.3.0)\n",
            "Installing collected packages: lightning-utilities, torchmetrics\n",
            "Successfully installed lightning-utilities-0.10.1 torchmetrics-1.3.1\n"
          ]
        }
      ],
      "source": [
        "! pip install torchmetrics"
      ],
      "id": "ydyJB0ga55Hd"
    },
    {
      "cell_type": "code",
      "execution_count": null,
      "metadata": {
        "colab": {
          "base_uri": "https://localhost:8080/"
        },
        "id": "66a4e948-3ed6-4e2f-aca6-5d7391f76b05",
        "outputId": "0f183e3d-720c-404b-e3c5-b8e41e958393"
      },
      "outputs": [
        {
          "output_type": "stream",
          "name": "stdout",
          "text": [
            "/content/gdrive/MyDrive/thesis/predictive-coding-thesis/src\n"
          ]
        }
      ],
      "source": [
        "%cd /content/gdrive/MyDrive/thesis/predictive-coding-thesis/src\n",
        "\n",
        "import math\n",
        "import torch\n",
        "import matplotlib.pyplot as plt\n",
        "import numpy as np\n",
        "\n",
        "import torchvision\n",
        "\n",
        "from torch.utils.data import TensorDataset, DataLoader, random_split\n",
        "\n",
        "#from tqdm.autonotebook import tqdm, trange\n",
        "\n",
        "from utils.models import *\n",
        "from utils.model_tools import *\n",
        "import os; os.environ['TF_CPP_MIN_LOG_LEVEL'] = '1'"
      ],
      "id": "66a4e948-3ed6-4e2f-aca6-5d7391f76b05"
    },
    {
      "cell_type": "code",
      "execution_count": null,
      "metadata": {
        "colab": {
          "base_uri": "https://localhost:8080/"
        },
        "id": "3454b182-292f-4c31-8932-55859978bc81",
        "outputId": "aeba3273-8344-4b5d-efa8-a97cda34e3d1"
      },
      "outputs": [
        {
          "output_type": "stream",
          "name": "stdout",
          "text": [
            "Using cuda device\n",
            "/content/gdrive/MyDrive/thesis/predictive-coding-thesis/src\n"
          ]
        }
      ],
      "source": [
        "device = \"cuda\" if torch.cuda.is_available() else \"cpu\"\n",
        "print(f\"Using {device} device\")\n",
        "\n",
        "!pwd"
      ],
      "id": "3454b182-292f-4c31-8932-55859978bc81"
    },
    {
      "cell_type": "markdown",
      "metadata": {
        "id": "ead182e5-5144-4685-b6c4-6a83bffdbc0b"
      },
      "source": [
        "### Training the Predictive Coder model"
      ],
      "id": "ead182e5-5144-4685-b6c4-6a83bffdbc0b"
    },
    {
      "cell_type": "code",
      "execution_count": null,
      "metadata": {
        "colab": {
          "base_uri": "https://localhost:8080/"
        },
        "id": "2212c74f-9914-40cc-97f1-377c15317893",
        "outputId": "40b5c9d2-8326-4e9f-e252-507e45951ac8"
      },
      "outputs": [
        {
          "name": "stdout",
          "output_type": "stream",
          "text": [
            "/content/gdrive/MyDrive/thesis/predictive-coding-thesis/src\n"
          ]
        }
      ],
      "source": [
        "# downsampling to 64x64\n",
        "%cd /content/gdrive/MyDrive/thesis/predictive-coding-thesis/src\n",
        "\n",
        "downsample = False\n",
        "\n",
        "if downsample:\n",
        "    import cv2\n",
        "    data_dir = 'data/noisy'\n",
        "    prefix = 'frames'\n",
        "    for filename in os.listdir(data_dir):\n",
        "        if filename.startswith(prefix):\n",
        "            frames_path = os.path.join(data_dir, filename)\n",
        "            print(frames_path)\n",
        "            frames = np.load(frames_path)\n",
        "            downsampled_images = []\n",
        "\n",
        "            for frame in frames:\n",
        "                resized_img = cv2.resize(frame, (64, 64), interpolation=cv2.INTER_AREA)\n",
        "                downsampled_images.append(resized_img)\n",
        "\n",
        "            downsampled_stack = np.stack(downsampled_images, axis=0)\n",
        "            np.save(frames_path, downsampled_stack)\n"
      ],
      "id": "2212c74f-9914-40cc-97f1-377c15317893"
    },
    {
      "cell_type": "code",
      "execution_count": null,
      "metadata": {
        "id": "4695479d-6e8a-4376-b535-43b30f4aacda"
      },
      "outputs": [],
      "source": [
        "# preprocess data by removing consecutive repeat frames\n",
        "remove_repeats = False\n",
        "\n",
        "if remove_repeats:\n",
        "    from utils.data_processing import remove_consecutive_repeats\n",
        "\n",
        "    data_dir = 'data/face-forward'\n",
        "    prefix = 'coords'\n",
        "    for filename in os.listdir(data_dir):\n",
        "        if filename.startswith(prefix) and not os.path.isdir(filename):\n",
        "            file_suffix = filename[len(prefix):]\n",
        "            coords_path = os.path.join(data_dir, filename)\n",
        "            frames_path = os.path.join(data_dir, 'frames' + file_suffix)\n",
        "            #print(coords_path)\n",
        "\n",
        "            #kept_idx = remove_consecutive_repeats(coords_path)\n",
        "\n",
        "            coords = np.load(coords_path)\n",
        "            frames = np.load(frames_path)\n",
        "            if coords.shape[0] != frames.shape[0]:\n",
        "                print(frames_path)\n",
        "                print(coords.shape)\n",
        "                print(frames.shape)\n",
        "            #np.save(coords_path, coords[kept_idx])\n",
        "            #np.save(frames_path, frames[kept_idx])\n",
        "            print(f'removed {len(coords) - len(kept_idx)} from {filename}')\n",
        "\n",
        "            del coords\n",
        "            del frames"
      ],
      "id": "4695479d-6e8a-4376-b535-43b30f4aacda"
    },
    {
      "cell_type": "code",
      "execution_count": null,
      "metadata": {
        "colab": {
          "base_uri": "https://localhost:8080/"
        },
        "id": "225325f5-31c3-4cf1-a6c8-4902a2d38d9a",
        "outputId": "0e2d12e9-2090-45f3-f954-0c5a645465ca"
      },
      "outputs": [
        {
          "output_type": "stream",
          "name": "stdout",
          "text": [
            "83143 training samples\n"
          ]
        }
      ],
      "source": [
        "torch.manual_seed(321)\n",
        "\n",
        "# need to consider if you actually want to transform\n",
        "transform = torchvision.transforms.Compose([\n",
        "        torchvision.transforms.ToTensor(),\n",
        "        #torchvision.transforms.Normalize((0.5, 0.5, 0.5), (0.5, 0.5, 0.5))\n",
        "])\n",
        "\n",
        "data_dir = 'data/noisy'\n",
        "\n",
        "dataset = HeadingDataset(source_directory=data_dir,\n",
        "                                 transform=transform)\n",
        "\n",
        "train_ratio = math.floor(len(dataset) * 0.9) - 14000\n",
        "train_data, test_data = random_split(dataset, [train_ratio, len(dataset) - train_ratio])\n",
        "print(f'{train_ratio} training samples')\n",
        "\n",
        "batch_size = 32\n",
        "# does it matter in this instance if you shuffle? I think you can get away with it\n",
        "train_loader = DataLoader(train_data, batch_size=batch_size, shuffle=True, num_workers=2, pin_memory=True)\n",
        "test_loader = DataLoader(test_data, batch_size=batch_size, shuffle=True, num_workers=2, pin_memory=True)"
      ],
      "id": "225325f5-31c3-4cf1-a6c8-4902a2d38d9a"
    },
    {
      "cell_type": "code",
      "execution_count": null,
      "metadata": {
        "id": "360a8f00-c85f-4874-b1e2-5616e43f1b97"
      },
      "outputs": [],
      "source": [
        "if False:\n",
        "\n",
        "    frames = np.load('data/face-forward/frames_random_faceforward_2024-01-09-18-25-37.npy')\n",
        "    coords = np.load('data/face-forward/coords_random_faceforward_2024-01-09-18-25-37.npy')\n",
        "\n",
        "    def imshow(img):\n",
        "        #img = img / 2 + 0.5     # unnormalize\n",
        "        npimg = img#.numpy()\n",
        "        plt.imshow(npimg)#np.transpose(npimg, (1, 2, 0)))\n",
        "        plt.show()\n",
        "\n",
        "    print(frames.shape)\n",
        "    print(coords.shape)\n",
        "\n",
        "    for i in range(9010, 9050):\n",
        "        imshow(frames[i])\n",
        "        print(coords[i])"
      ],
      "id": "360a8f00-c85f-4874-b1e2-5616e43f1b97"
    },
    {
      "cell_type": "code",
      "execution_count": null,
      "metadata": {
        "id": "9a6057cc-ec3e-4bfc-b080-00f21985bc74"
      },
      "outputs": [],
      "source": [
        "# Take a look at the sequence of images\n",
        "\n",
        "def imshow(img):\n",
        "    img = img / 2 + 0.5     # unnormalize\n",
        "    npimg = img.numpy()\n",
        "    plt.imshow(np.transpose(npimg, (1, 2, 0)))\n",
        "    plt.show()\n",
        "\n",
        "seq, preds = next(iter(train_loader))\n",
        "frames, headings = seq\n",
        "print(headings[0])\n",
        "imshow(torchvision.utils.make_grid(frames[0]))\n",
        "imshow(preds[0])"
      ],
      "id": "9a6057cc-ec3e-4bfc-b080-00f21985bc74"
    },
    {
      "cell_type": "code",
      "execution_count": null,
      "metadata": {
        "colab": {
          "base_uri": "https://localhost:8080/"
        },
        "id": "b6cef797-fc30-4bdf-bc47-8a88ced256eb",
        "outputId": "3fe31f1d-721a-483d-8c36-a719d789ce37"
      },
      "outputs": [
        {
          "output_type": "stream",
          "name": "stdout",
          "text": [
            "2599\n"
          ]
        }
      ],
      "source": [
        "model = PredictiveCoderWithHead()\n",
        "model.to(device)\n",
        "print(len(train_loader))\n",
        "\n",
        "num_epochs = 200 # in the actual example this will be 200\n",
        "steps_per_epoch = len(train_loader) #?\n",
        "\n",
        "learning_rate = 0.1\n",
        "weight_decay = 5 * 10**-6\n",
        "\n",
        "loss_fn = torch.nn.MSELoss()\n",
        "optimizer = torch.optim.SGD(model.parameters(), lr=learning_rate, momentum=0.9, weight_decay=weight_decay, nesterov=True)\n",
        "lr_scheduler = torch.optim.lr_scheduler.OneCycleLR(optimizer, learning_rate, epochs=num_epochs, steps_per_epoch=steps_per_epoch)\n"
      ],
      "id": "b6cef797-fc30-4bdf-bc47-8a88ced256eb"
    },
    {
      "cell_type": "code",
      "execution_count": null,
      "metadata": {
        "colab": {
          "base_uri": "https://localhost:8080/"
        },
        "id": "6396cbf7-1aba-4154-bcde-52ad72a0533b",
        "outputId": "18687ab7-2336-4b57-bcde-a41d350bb151"
      },
      "outputs": [
        {
          "metadata": {
            "tags": null
          },
          "name": "stdout",
          "output_type": "stream",
          "text": [
            "Epoch 152\n",
            "-------------------------------\n",
            "loss: 0.002991  [    0/83143]\n",
            "loss: 0.003089  [ 2000/83143]\n",
            "loss: 0.002789  [ 4000/83143]\n",
            "Test Error: \n",
            " Avg loss: 0.007166 \n",
            "\n",
            "Epoch 153\n",
            "-------------------------------\n",
            "loss: 0.002717  [    0/83143]\n",
            "loss: 0.002376  [ 2000/83143]\n",
            "loss: 0.002418  [ 4000/83143]\n",
            "Test Error: \n",
            " Avg loss: 0.007210 \n",
            "\n",
            "Epoch 154\n",
            "-------------------------------\n",
            "loss: 0.002371  [    0/83143]\n",
            "loss: 0.002266  [ 2000/83143]\n",
            "loss: 0.002736  [ 4000/83143]\n",
            "Test Error: \n",
            " Avg loss: 0.007141 \n",
            "\n",
            "Epoch 155\n",
            "-------------------------------\n",
            "loss: 0.002789  [    0/83143]\n",
            "loss: 0.002669  [ 2000/83143]\n",
            "loss: 0.002759  [ 4000/83143]\n",
            "Test Error: \n",
            " Avg loss: 0.007106 \n",
            "\n",
            "Epoch 156\n",
            "-------------------------------\n",
            "loss: 0.002289  [    0/83143]\n",
            "loss: 0.003022  [ 2000/83143]\n",
            "loss: 0.002656  [ 4000/83143]\n",
            "Test Error: \n",
            " Avg loss: 0.007225 \n",
            "\n",
            "Epoch 157\n",
            "-------------------------------\n",
            "loss: 0.002201  [    0/83143]\n",
            "loss: 0.002385  [ 2000/83143]\n",
            "loss: 0.002459  [ 4000/83143]\n",
            "Test Error: \n",
            " Avg loss: 0.007220 \n",
            "\n",
            "Epoch 158\n",
            "-------------------------------\n",
            "loss: 0.002641  [    0/83143]\n",
            "loss: 0.002156  [ 2000/83143]\n",
            "loss: 0.002781  [ 4000/83143]\n",
            "Test Error: \n",
            " Avg loss: 0.007230 \n",
            "\n",
            "Epoch 159\n",
            "-------------------------------\n",
            "loss: 0.002625  [    0/83143]\n",
            "loss: 0.001875  [ 2000/83143]\n",
            "loss: 0.002932  [ 4000/83143]\n",
            "Test Error: \n",
            " Avg loss: 0.007214 \n",
            "\n",
            "Epoch 160\n",
            "-------------------------------\n",
            "loss: 0.002709  [    0/83143]\n",
            "loss: 0.002169  [ 2000/83143]\n",
            "loss: 0.002217  [ 4000/83143]\n",
            "Test Error: \n",
            " Avg loss: 0.007156 \n",
            "\n",
            "Epoch 161\n",
            "-------------------------------\n",
            "loss: 0.002652  [    0/83143]\n",
            "loss: 0.002137  [ 2000/83143]\n",
            "loss: 0.002468  [ 4000/83143]\n",
            "Test Error: \n",
            " Avg loss: 0.007158 \n",
            "\n",
            "Epoch 162\n",
            "-------------------------------\n",
            "loss: 0.001809  [    0/83143]\n",
            "loss: 0.003232  [ 2000/83143]\n",
            "loss: 0.002102  [ 4000/83143]\n",
            "Test Error: \n",
            " Avg loss: 0.008249 \n",
            "\n",
            "Epoch 163\n",
            "-------------------------------\n",
            "loss: 0.003529  [    0/83143]\n",
            "loss: 0.003697  [ 2000/83143]\n",
            "loss: 0.008192  [ 4000/83143]\n",
            "Test Error: \n",
            " Avg loss: 0.007638 \n",
            "\n",
            "Epoch 164\n",
            "-------------------------------\n",
            "loss: 0.004208  [    0/83143]\n",
            "loss: 0.003965  [ 2000/83143]\n",
            "loss: 0.004150  [ 4000/83143]\n",
            "Test Error: \n",
            " Avg loss: 0.007153 \n",
            "\n",
            "Epoch 165\n",
            "-------------------------------\n",
            "loss: 0.004163  [    0/83143]\n",
            "loss: 0.003682  [ 2000/83143]\n",
            "loss: 0.003407  [ 4000/83143]\n",
            "Test Error: \n",
            " Avg loss: 0.007395 \n",
            "\n",
            "Epoch 166\n",
            "-------------------------------\n",
            "loss: 0.003790  [    0/83143]\n",
            "loss: 0.003148  [ 2000/83143]\n",
            "loss: 0.003510  [ 4000/83143]\n",
            "Test Error: \n",
            " Avg loss: 0.007461 \n",
            "\n",
            "Epoch 167\n",
            "-------------------------------\n",
            "loss: 0.003922  [    0/83143]\n",
            "loss: 0.003577  [ 2000/83143]\n",
            "loss: 0.003496  [ 4000/83143]\n",
            "Test Error: \n",
            " Avg loss: 0.007200 \n",
            "\n",
            "Epoch 168\n",
            "-------------------------------\n",
            "loss: 0.004151  [    0/83143]\n",
            "loss: 0.003039  [ 2000/83143]\n",
            "loss: 0.002528  [ 4000/83143]\n",
            "Test Error: \n",
            " Avg loss: 0.007245 \n",
            "\n",
            "Epoch 169\n",
            "-------------------------------\n",
            "loss: 0.002040  [    0/83143]\n",
            "loss: 0.003428  [ 2000/83143]\n",
            "loss: 0.003044  [ 4000/83143]\n",
            "Test Error: \n",
            " Avg loss: 0.006979 \n",
            "\n",
            "Epoch 170\n",
            "-------------------------------\n",
            "loss: 0.002855  [    0/83143]\n",
            "loss: 0.003275  [ 2000/83143]\n",
            "loss: 0.003048  [ 4000/83143]\n",
            "Test Error: \n",
            " Avg loss: 0.007148 \n",
            "\n",
            "Epoch 171\n",
            "-------------------------------\n",
            "loss: 0.003910  [    0/83143]\n",
            "loss: 0.002439  [ 2000/83143]\n",
            "loss: 0.002700  [ 4000/83143]\n",
            "Test Error: \n",
            " Avg loss: 0.006909 \n",
            "\n",
            "Epoch 172\n",
            "-------------------------------\n",
            "loss: 0.002393  [    0/83143]\n",
            "loss: 0.003482  [ 2000/83143]\n",
            "loss: 0.008277  [ 4000/83143]\n",
            "Test Error: \n",
            " Avg loss: 0.007171 \n",
            "\n",
            "Epoch 173\n",
            "-------------------------------\n",
            "loss: 0.002795  [    0/83143]\n",
            "loss: 0.005700  [ 2000/83143]\n",
            "loss: 0.002520  [ 4000/83143]\n",
            "Test Error: \n",
            " Avg loss: 0.007039 \n",
            "\n",
            "Epoch 174\n",
            "-------------------------------\n",
            "loss: 0.003176  [    0/83143]\n",
            "loss: 0.003293  [ 2000/83143]\n",
            "loss: 0.002212  [ 4000/83143]\n",
            "Test Error: \n",
            " Avg loss: 0.007182 \n",
            "\n",
            "Epoch 175\n",
            "-------------------------------\n",
            "loss: 0.003022  [    0/83143]\n",
            "loss: 0.003180  [ 2000/83143]\n",
            "loss: 0.002806  [ 4000/83143]\n",
            "Test Error: \n",
            " Avg loss: 0.007216 \n",
            "\n",
            "Epoch 176\n",
            "-------------------------------\n",
            "loss: 0.002255  [    0/83143]\n",
            "loss: 0.002544  [ 2000/83143]\n",
            "loss: 0.002053  [ 4000/83143]\n",
            "Test Error: \n",
            " Avg loss: 0.007012 \n",
            "\n",
            "Epoch 177\n",
            "-------------------------------\n",
            "loss: 0.002889  [    0/83143]\n",
            "loss: 0.002875  [ 2000/83143]\n",
            "loss: 0.002317  [ 4000/83143]\n",
            "Test Error: \n",
            " Avg loss: 0.007009 \n",
            "\n",
            "Epoch 178\n",
            "-------------------------------\n",
            "loss: 0.002886  [    0/83143]\n",
            "loss: 0.002364  [ 2000/83143]\n",
            "loss: 0.002605  [ 4000/83143]\n"
          ]
        }
      ],
      "source": [
        "\n",
        "model_file = f'model_files/faceforward_noisy_{train_ratio}_samples-{num_epochs}ep-causal.pt'\n",
        "model_checkpoint = f'model_files/faceforward_noisy_{train_ratio}_samples-{num_epochs}ep-causal.pth'\n",
        "train_losses_file = f'logs/faceforward_noisy-ep{num_epochs}-train_{train_ratio}-causal.txt'\n",
        "test_losses_file = f'logs/faceforward_noisy-ep{num_epochs}-test_{train_ratio}-causal.txt'\n",
        "\n",
        "train_losses = []\n",
        "test_losses = []\n",
        "\n",
        "try:\n",
        "  # assumes previous checkpoint\n",
        "  checkpoint = torch.load(model_checkpoint)\n",
        "\n",
        "  model.load_state_dict(checkpoint['state_dict'])\n",
        "  optimizer.load_state_dict(checkpoint['optimizer'])\n",
        "  start_epoch = checkpoint['epoch']\n",
        "  test_losses = checkpoint.get('loss_history', [])\n",
        "\n",
        "  for epoch in range(start_epoch, num_epochs):\n",
        "    print(f\"Epoch {epoch+1}\\n-------------------------------\")\n",
        "    train_loss = train_heading(train_loader, model, loss_fn, optimizer, device)\n",
        "    test_loss = test_heading(test_loader, model, loss_fn, device)\n",
        "    train_losses.append(train_loss)\n",
        "    test_losses.append(test_loss)\n",
        "\n",
        "    lr_scheduler.step()\n",
        "\n",
        "    if epoch % 10 == 0:\n",
        "      state = {\n",
        "        'epoch': epoch + 1,  # Save next epoch number since current one is completed\n",
        "        'state_dict': model.state_dict(),\n",
        "        'optimizer': optimizer.state_dict(),\n",
        "        'loss_history': test_losses,\n",
        "      }\n",
        "\n",
        "      # Save the state dictionary; adjust the path as necessary\n",
        "      torch.save(state, model_checkpoint)\n",
        "\n",
        "\n",
        "finally:\n",
        "    torch.save(model.state_dict(), model_file)\n",
        "\n",
        "    with open(train_losses_file, 'w') as fp:\n",
        "        for s in train_losses:\n",
        "            fp.write(\"%s\\n\" % s)\n",
        "\n",
        "    with open(test_losses_file, 'w') as fp:\n",
        "        for x in test_losses:\n",
        "            fp.write(\"%s\\n\" % x)\n",
        "\n",
        "    print(\"Done!\")"
      ],
      "id": "6396cbf7-1aba-4154-bcde-52ad72a0533b"
    },
    {
      "cell_type": "code",
      "execution_count": null,
      "metadata": {
        "id": "9d05a021-5386-4823-b86a-956c19dbfc42"
      },
      "outputs": [],
      "source": [
        "# hey girl yoooooo\n",
        "\n",
        "# keep going please <3\n",
        "latent_model_file = 'model_files/faceforward_88143_samples-200ep-causal.pt'\n",
        "latent_model = PredictiveCoderWithHead()\n",
        "latent_model.to(device)\n",
        "latent_model.load_state_dict(torch.load(latent_model_file))#, map_location=torch.device(device)))\n",
        "latent_model.eval()\n",
        "for param in latent_model.parameters():\n",
        "    param.requires_grad = False"
      ],
      "id": "9d05a021-5386-4823-b86a-956c19dbfc42"
    },
    {
      "cell_type": "code",
      "execution_count": null,
      "metadata": {
        "colab": {
          "base_uri": "https://localhost:8080/",
          "height": 968
        },
        "id": "92f1b88e-f1e7-49e0-8b15-3b9b01591b20",
        "outputId": "7b735c17-8e79-420f-efd2-49f09a0ec125"
      },
      "outputs": [
        {
          "data": {
            "image/png": "[encoded data removed]",
            "text/plain": [
              "<Figure size 640x480 with 1 Axes>"
            ]
          },
          "metadata": {},
          "output_type": "display_data"
        },
        {
          "data": {
            "image/png": "[encoded data removed]",
            "text/plain": [
              "<Figure size 640x480 with 1 Axes>"
            ]
          },
          "metadata": {},
          "output_type": "display_data"
        },
        {
          "data": {
            "image/png": "[encoded data removed]",
            "text/plain": [
              "<Figure size 640x480 with 1 Axes>"
            ]
          },
          "metadata": {},
          "output_type": "display_data"
        }
      ],
      "source": [
        "#print(seq[0].shape, seq[1].shape, corr.shape)\n",
        "\n",
        "seq, corr = next(iter(test_loader))\n",
        "\n",
        "\n",
        "imshow(torchvision.utils.make_grid(seq[0][0]))\n",
        "imshow(corr[0])\n",
        "\n",
        "with torch.no_grad():\n",
        "    pred = model(seq[0].to(device), seq[1].to(device)).cpu() # won't this have issues with a batch norm or something if you have one batch\n",
        "\n",
        "imshow(pred[0])"
      ],
      "id": "92f1b88e-f1e7-49e0-8b15-3b9b01591b20"
    },
    {
      "cell_type": "code",
      "execution_count": null,
      "metadata": {
        "id": "4c325187-c783-438c-a21b-c69e91116c04"
      },
      "outputs": [],
      "source": [],
      "id": "4c325187-c783-438c-a21b-c69e91116c04"
    },
    {
      "cell_type": "code",
      "execution_count": null,
      "metadata": {
        "collapsed": true,
        "id": "c4bd68ff-8ed5-45c8-96d0-e5454794ea6f"
      },
      "outputs": [],
      "source": [],
      "id": "c4bd68ff-8ed5-45c8-96d0-e5454794ea6f"
    },
    {
      "cell_type": "code",
      "execution_count": null,
      "metadata": {
        "id": "159511a4-5948-4080-8a9a-383134510c2e"
      },
      "outputs": [],
      "source": [],
      "id": "159511a4-5948-4080-8a9a-383134510c2e"
    }
  ],
  "metadata": {
    "colab": {
      "provenance": []
    },
    "kernelspec": {
      "display_name": "Python 3",
      "name": "python3"
    },
    "language_info": {
      "codemirror_mode": {
        "name": "ipython",
        "version": 3
      },
      "file_extension": ".py",
      "mimetype": "text/x-python",
      "name": "python",
      "nbconvert_exporter": "python",
      "pygments_lexer": "ipython3",
      "version": "3.11.5"
    }
  },
  "nbformat": 4,
  "nbformat_minor": 5
}