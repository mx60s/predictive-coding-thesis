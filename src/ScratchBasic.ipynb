{
 "cells": [
  {
   "cell_type": "code",
   "execution_count": null,
   "id": "ed1b8f03-4c70-4e3b-bfec-9b540835e9ff",
   "metadata": {},
   "outputs": [],
   "source": [
    "# Scratch notebook to set up the flow of training a basic paper-described VAE on minecraft images\n",
    "\n",
    "import torch\n",
    "import matplotlib.pyplot as plt\n",
    "import numpy as np\n",
    "\n",
    "from torch.utils.data import DataLoader\n",
    "\n",
    "from torchvision import transforms\n",
    "from torchvision.datasets import CIFAR10\n",
    "\n",
    "from tqdm.autonotebook import tqdm, trange\n",
    "\n",
    "from utils.models import *\n",
    "from utils.model_tools import train, test\n"
   ]
  },
  {
   "cell_type": "code",
   "execution_count": null,
   "id": "d24c7c72-7f7b-45be-84db-8b333fb34750",
   "metadata": {},
   "outputs": [],
   "source": [
    "device = \"cuda\" if torch.cuda.is_available() else \"cpu\"\n",
    "print(f\"Using {device} device\")\n"
   ]
  },
  {
   "cell_type": "code",
   "execution_count": null,
   "id": "fd80ee51-ac60-4c49-b1b0-cc8c47d77a48",
   "metadata": {},
   "outputs": [],
   "source": [
    "model_file = 'model_files/test_cifar10_vae.pt'\n",
    "\n",
    "transform = transforms.Compose([\n",
    "        transforms.ToTensor(),\n",
    "        transforms.Normalize((0.5, 0.5, 0.5), (0.5, 0.5, 0.5))])\n",
    "\n",
    "train_data = CIFAR10(root='./data', train=True, download=True, transform=transform)\n",
    "test_data = CIFAR10(root='./data', train=False, download=True, transform=transform)\n",
    "batch_size = 32\n",
    "train_loader = DataLoader(train_data, batch_size=batch_size, shuffle=True, num_workers=2)\n",
    "test_loader = DataLoader(test_data, batch_size=batch_size, shuffle=True, num_workers=2)\n",
    "\n",
    "z_dim = 10\n",
    "\n",
    "model = BasicVAE(z_dim=z_dim)\n",
    "model.to(device)\n",
    "print(len(train_loader))"
   ]
  },
  {
   "cell_type": "code",
   "execution_count": null,
   "id": "421b0b62-8e8e-4180-9f97-d9cc364ee13a",
   "metadata": {},
   "outputs": [],
   "source": [
    "num_epochs = 100 # in the actual example this will be 200\n",
    "steps_per_epoch = len(train_loader) #?\n",
    "\n",
    "learning_rate = 0.1\n",
    "weight_decay = 5 * 10**-6\n",
    "\n",
    "loss_fn = torch.nn.MSELoss()\n",
    "optimizer = torch.optim.SGD(model.parameters(), lr=learning_rate, momentum=0.9, weight_decay=weight_decay, nesterov=True)\n",
    "lr_scheduler = torch.optim.lr_scheduler.OneCycleLR(optimizer, learning_rate, epochs=num_epochs, steps_per_epoch=steps_per_epoch)\n"
   ]
  },
  {
   "cell_type": "code",
   "execution_count": null,
   "id": "4cdf52c4-31d1-4bbb-abcc-d97fe9ba9e40",
   "metadata": {},
   "outputs": [],
   "source": [
    "train_losses = []\n",
    "test_losses = []\n",
    "t = trange(num_epochs)\n",
    "\n",
    "# input is batch_size, channels, h, w\n",
    "\n",
    "for epoch in t:\n",
    "    print(f\"Epoch {epoch+1}\\n-------------------------------\")\n",
    "    train_loss = train(train_loader, model, loss_fn, optimizer, device)\n",
    "    test_loss, y_pred, y_actual = test(test_loader, model, loss_fn, device)\n",
    "    train_losses.append(train_loss)\n",
    "    test_losses.append(test_loss)\n",
    "    \n",
    "    t.set_description(f\"Epoch {epoch} train loss: {epoch_loss_train[-1]:.3f}\")\n",
    "    lr_scheduler.step()\n",
    "    \n",
    "torch.save(model.state_dict(), model_file)\n",
    "\n",
    "with open(train_losses_file, 'w') as fp:\n",
    "    for s in train_losses:\n",
    "        fp.write(\"%s\\n\" % s)\n",
    "        \n",
    "with open(test_losses_file, 'w') as fp:\n",
    "    for x in test_losses:\n",
    "        fp.write(\"%s\\n\" % x)\n",
    "\n",
    "print(\"Done!\")\n",
    "\n",
    "recalls_loaded = np.load(recall_file)\n",
    "print(recalls == recalls_loaded)"
   ]
  },
  {
   "cell_type": "code",
   "execution_count": null,
   "id": "7936611d-f1b1-44b8-bfcb-ec14d2db058d",
   "metadata": {},
   "outputs": [],
   "source": []
  }
 ],
 "metadata": {
  "kernelspec": {
   "display_name": "Python 3 (ipykernel)",
   "language": "python",
   "name": "python3"
  },
  "language_info": {
   "codemirror_mode": {
    "name": "ipython",
    "version": 3
   },
   "file_extension": ".py",
   "mimetype": "text/x-python",
   "name": "python",
   "nbconvert_exporter": "python",
   "pygments_lexer": "ipython3",
   "version": "3.9.12"
  }
 },
 "nbformat": 4,
 "nbformat_minor": 5
}
