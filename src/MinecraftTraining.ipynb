{
 "cells": [
  {
   "cell_type": "code",
   "execution_count": null,
   "id": "66a4e948-3ed6-4e2f-aca6-5d7391f76b05",
   "metadata": {
    "tags": []
   },
   "outputs": [],
   "source": [
    "# Just testing my Spatial AE\n",
    "\n",
    "import torch\n",
    "import matplotlib.pyplot as plt\n",
    "import numpy as np\n",
    "\n",
    "import torchvision\n",
    "\n",
    "from torch.utils.data import TensorDataset, DataLoader\n",
    "\n",
    "#from tqdm.autonotebook import tqdm, trange\n",
    "\n",
    "from utils.models import *\n",
    "from utils.model_tools import *\n",
    "import os; os.environ['TF_CPP_MIN_LOG_LEVEL'] = '1'"
   ]
  },
  {
   "cell_type": "code",
   "execution_count": null,
   "id": "3454b182-292f-4c31-8932-55859978bc81",
   "metadata": {},
   "outputs": [],
   "source": [
    "device = \"cuda\" if torch.cuda.is_available() else \"cpu\"\n",
    "print(f\"Using {device} device\")\n"
   ]
  },
  {
   "cell_type": "code",
   "execution_count": null,
   "id": "225325f5-31c3-4cf1-a6c8-4902a2d38d9a",
   "metadata": {},
   "outputs": [],
   "source": [
    "torch.manual_seed(321)\n",
    "\n",
    "model_file = 'model_files/default_env_spatial_ae.pt'\n",
    "\n",
    "# need to consider if you actually want to transform\n",
    "transform = torchvision.transforms.Compose([\n",
    "        torchvision.transforms.ToTensor(),\n",
    "        torchvision.transforms.Normalize((0.5, 0.5, 0.5), (0.5, 0.5, 0.5))\n",
    "])\n",
    "\n",
    "trainset_file = 'data/default_trainset_15000.pt'\n",
    "testset_file = 'data/default_testset_2713.pt'\n",
    "\n",
    "load_dataset = False\n",
    "\n",
    "if load_dataset: # notebook kernel likes to die when we build it so load it when possible\n",
    "    train_data = TensorDataset(torch.load(trainset_file))\n",
    "    test_data = TensorDataset(torch.load(testset_file))\n",
    "else:\n",
    "    frames_files = [#'data/frames_default_2023-10-26-00-20-15.npy', \n",
    "                    #'data/frames_default_2023-10-26-01-07-09.npy',\n",
    "                    'data/frames_default_2023-10-26-16-58-26.npy']\n",
    "\n",
    "    raw_frames = np.load(frames_files[0])\n",
    "    for i in range(1, len(frames_files)):\n",
    "    #    print(np.load(frames_files[i]).shape)\n",
    "        f = np.load(frames_files[i])\n",
    "        raw_frames = np.concatenate((raw_frames, f), axis=0)\n",
    "\n",
    "    train_data = SequentialFrameDataset(raw_frames, transform=transform)#[:15000])#, transform=transform)\n",
    "    test_data = SequentialFrameDataset(raw_frames, transform=transform)#[15001:])#, transform=transform)\n",
    "\n",
    "batch_size = 32\n",
    "# does it matter in this instance if you shuffle? I think you can get away with it\n",
    "train_loader = DataLoader(train_data, batch_size=batch_size, shuffle=True, num_workers=2)\n",
    "test_loader = DataLoader(test_data, batch_size=batch_size, shuffle=True, num_workers=2)"
   ]
  },
  {
   "cell_type": "code",
   "execution_count": null,
   "id": "9a6057cc-ec3e-4bfc-b080-00f21985bc74",
   "metadata": {},
   "outputs": [],
   "source": [
    "# Take a look at the sequence of images\n",
    "\n",
    "def imshow(img):\n",
    "    img = img / 2 + 0.5     # unnormalize\n",
    "    npimg = img.numpy()\n",
    "    plt.imshow(np.transpose(npimg, (1, 2, 0)))\n",
    "    plt.show()\n",
    "\n",
    "seq, preds = next(iter(train_loader))\n",
    "imshow(torchvision.utils.make_grid(seq[0]))\n",
    "imshow(preds[0])"
   ]
  },
  {
   "cell_type": "code",
   "execution_count": null,
   "id": "b6cef797-fc30-4bdf-bc47-8a88ced256eb",
   "metadata": {},
   "outputs": [],
   "source": [
    "model = PredictiveCoder()\n",
    "model.to(device)\n",
    "print(len(train_loader))\n",
    "\n",
    "num_epochs = 30 # in the actual example this will be 200\n",
    "steps_per_epoch = len(train_loader) #?\n",
    "\n",
    "learning_rate = 0.1\n",
    "weight_decay = 5 * 10**-6\n",
    "\n",
    "loss_fn = torch.nn.MSELoss()\n",
    "optimizer = torch.optim.SGD(model.parameters(), lr=learning_rate, momentum=0.9, weight_decay=weight_decay, nesterov=True)\n",
    "lr_scheduler = torch.optim.lr_scheduler.OneCycleLR(optimizer, learning_rate, epochs=num_epochs, steps_per_epoch=steps_per_epoch)\n"
   ]
  },
  {
   "cell_type": "code",
   "execution_count": null,
   "id": "6396cbf7-1aba-4154-bcde-52ad72a0533b",
   "metadata": {
    "tags": []
   },
   "outputs": [],
   "source": [
    "train_losses_file = 'logs/spatial-ae-default-ep30-train.txt'\n",
    "test_losses_file = 'logs/spatial-ae-cifar10-ep30-test.txt'\n",
    "\n",
    "train_losses = []\n",
    "test_losses = []\n",
    "#t = trange(num_epochs)\n",
    "\n",
    "for epoch in range(num_epochs):\n",
    "    print(f\"Epoch {epoch+1}\\n-------------------------------\")\n",
    "    train_loss = train(train_loader, model, loss_fn, optimizer, device)\n",
    "    test_loss = test(test_loader, model, loss_fn, device)\n",
    "    train_losses.append(train_loss)\n",
    "    test_losses.append(test_loss)\n",
    "    \n",
    "    #t.set_description(f\"Epoch {epoch} train loss: {epoch_loss_train[-1]:.3f}\")\n",
    "    lr_scheduler.step()\n",
    "    \n",
    "torch.save(model.state_dict(), model_file)\n",
    "\n",
    "with open(train_losses_file, 'w') as fp:\n",
    "    for s in train_losses:\n",
    "        fp.write(\"%s\\n\" % s)\n",
    "        \n",
    "with open(test_losses_file, 'w') as fp:\n",
    "    for x in test_losses:\n",
    "        fp.write(\"%s\\n\" % x)\n",
    "\n",
    "print(\"Done!\")\n"
   ]
  },
  {
   "cell_type": "code",
   "execution_count": null,
   "id": "9fb7bee1-261a-4124-8ffb-88275a0c1c03",
   "metadata": {},
   "outputs": [],
   "source": []
  }
 ],
 "metadata": {
  "kernelspec": {
   "display_name": "Python 3 (ipykernel)",
   "language": "python",
   "name": "python3"
  },
  "language_info": {
   "codemirror_mode": {
    "name": "ipython",
    "version": 3
   },
   "file_extension": ".py",
   "mimetype": "text/x-python",
   "name": "python",
   "nbconvert_exporter": "python",
   "pygments_lexer": "ipython3",
   "version": "3.9.12"
  }
 },
 "nbformat": 4,
 "nbformat_minor": 5
}
