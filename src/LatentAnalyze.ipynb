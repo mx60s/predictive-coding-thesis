{
 "cells": [
  {
   "cell_type": "markdown",
   "id": "97071936-4ef5-4d9a-974d-239608cd9c16",
   "metadata": {},
   "source": [
    "### Analyze latent variables for head dir, shifters, etc"
   ]
  },
  {
   "cell_type": "code",
   "execution_count": 1,
   "id": "069d8773-24b9-449e-90f7-24df49ffdd56",
   "metadata": {},
   "outputs": [],
   "source": [
    "import math\n",
    "import torch\n",
    "import matplotlib.pyplot as plt\n",
    "import numpy as np\n",
    "\n",
    "import torchvision\n",
    "\n",
    "from torch.utils.data import TensorDataset, DataLoader, random_split\n",
    "\n",
    "from utils.models import *\n",
    "from utils.model_tools import *\n",
    "import os; os.environ['TF_CPP_MIN_LOG_LEVEL'] = '1'"
   ]
  },
  {
   "cell_type": "code",
   "execution_count": 2,
   "id": "c4e39a75-8d67-4672-80c1-dc10e70f098d",
   "metadata": {},
   "outputs": [
    {
     "name": "stdout",
     "output_type": "stream",
     "text": [
      "Using cuda device\n",
      "/home/mag/predictive-coding-thesis/src\n"
     ]
    }
   ],
   "source": [
    "torch.manual_seed(321)\n",
    "\n",
    "device = \"cuda\" if torch.cuda.is_available() else \"cpu\"\n",
    "print(f\"Using {device} device\")\n",
    "\n",
    "!pwd"
   ]
  },
  {
   "cell_type": "markdown",
   "id": "b4d6b9ed-0ed1-42e4-aa08-50814f99b0b3",
   "metadata": {},
   "source": [
    "### Generate latents, post prediction (at least for non-autoencoder) for all samples"
   ]
  },
  {
   "cell_type": "code",
   "execution_count": 3,
   "id": "aa65863b-0eaa-46ef-be1d-3387ee2aae92",
   "metadata": {},
   "outputs": [
    {
     "name": "stdout",
     "output_type": "stream",
     "text": [
      "99930 samples\n"
     ]
    }
   ],
   "source": [
    "use_headings = True\n",
    "predictions = True    # if we want to get predictive latents\n",
    "\n",
    "# I still need to work on the non-predictive because that's messed up with the headings right now\n",
    "# I'd need to retrain the predictive coder model so that the displacements are not futuristic + added disp at end\n",
    "\n",
    "transform = torchvision.transforms.Compose([\n",
    "        torchvision.transforms.ToTensor()\n",
    "])\n",
    "\n",
    "data_dir = 'data/noisy'\n",
    "\n",
    "if predictions:\n",
    "    if use_headings:\n",
    "        dataset = HeadingDataset(source_directory=data_dir, seq_len=7, transform=transform)\n",
    "    else:\n",
    "        dataset = SequentialFrameDataset(source_directory=data_dir, seq_len=7\n",
    "                                         transform=transform)\n",
    "else:\n",
    "    dataset = AutoencoderDataset(source_directory=data_dir, transform=transform)\n",
    "    \n",
    "\n",
    "print(f'{len(dataset)} samples')\n",
    "\n",
    "batch_size = 32 if predictions else 64\n",
    "loader = DataLoader(dataset, batch_size=batch_size, shuffle=False, num_workers=2, pin_memory=True)"
   ]
  },
  {
   "cell_type": "code",
   "execution_count": 7,
   "id": "f274dcd2-c0c2-4b7e-bdd2-78933b2086e3",
   "metadata": {},
   "outputs": [
    {
     "ename": "RuntimeError",
     "evalue": "CUDA error: out of memory\nCUDA kernel errors might be asynchronously reported at some other API call, so the stacktrace below might be incorrect.\nFor debugging consider passing CUDA_LAUNCH_BLOCKING=1.\nCompile with `TORCH_USE_CUDA_DSA` to enable device-side assertions.\n",
     "output_type": "error",
     "traceback": [
      "\u001b[0;31m---------------------------------------------------------------------------\u001b[0m",
      "\u001b[0;31mRuntimeError\u001b[0m                              Traceback (most recent call last)",
      "Cell \u001b[0;32mIn[7], line 3\u001b[0m\n\u001b[1;32m      1\u001b[0m \u001b[38;5;28;01mif\u001b[39;00m use_headings:\n\u001b[1;32m      2\u001b[0m     model_file \u001b[38;5;241m=\u001b[39m \u001b[38;5;124m'\u001b[39m\u001b[38;5;124mmodel_files/faceforward_88143_samples-200ep-causal.pt\u001b[39m\u001b[38;5;124m'\u001b[39m\n\u001b[0;32m----> 3\u001b[0m     model \u001b[38;5;241m=\u001b[39m \u001b[43mPredictiveCoderWithHead\u001b[49m\u001b[43m(\u001b[49m\u001b[43m)\u001b[49m\n\u001b[1;32m      4\u001b[0m \u001b[38;5;28;01melse\u001b[39;00m:\n\u001b[1;32m      5\u001b[0m     model_file \u001b[38;5;241m=\u001b[39m \u001b[38;5;124m'\u001b[39m\u001b[38;5;124mmodel_files/autoencoder-facenorth_72000_samples-50ep.pt\u001b[39m\u001b[38;5;124m'\u001b[39m\n",
      "File \u001b[0;32m~/predictive-coding-thesis/src/utils/models.py:201\u001b[0m, in \u001b[0;36m__init__\u001b[0;34m(self)\u001b[0m\n\u001b[1;32m    199\u001b[0m \u001b[38;5;28;01mdef\u001b[39;00m \u001b[38;5;21m__init__\u001b[39m(\u001b[38;5;28mself\u001b[39m, input_dim\u001b[38;5;241m=\u001b[39m\u001b[38;5;241m1\u001b[39m, output_dim\u001b[38;5;241m=\u001b[39m\u001b[38;5;241m16\u001b[39m):\n\u001b[1;32m    200\u001b[0m     \u001b[38;5;28msuper\u001b[39m(TurnScaler, \u001b[38;5;28mself\u001b[39m)\u001b[38;5;241m.\u001b[39m\u001b[38;5;21m__init__\u001b[39m()\n\u001b[0;32m--> 201\u001b[0m     \u001b[38;5;28mself\u001b[39m\u001b[38;5;241m.\u001b[39mfc \u001b[38;5;241m=\u001b[39m \u001b[43mnn\u001b[49m\u001b[38;5;241;43m.\u001b[39;49m\u001b[43mLinear\u001b[49m\u001b[43m(\u001b[49m\u001b[43minput_dim\u001b[49m\u001b[43m,\u001b[49m\u001b[43m \u001b[49m\u001b[43moutput_dim\u001b[49m\u001b[43m)\u001b[49m\n",
      "File \u001b[0;32m~/predictive-coding-thesis/src/utils/models.py:161\u001b[0m, in \u001b[0;36mMySelfAttention.__init__\u001b[0;34m(self, embed_dim, heads)\u001b[0m\n\u001b[1;32m    159\u001b[0m \u001b[38;5;28msuper\u001b[39m()\u001b[38;5;241m.\u001b[39m\u001b[38;5;21m__init__\u001b[39m()\n\u001b[1;32m    160\u001b[0m sequence_length \u001b[38;5;241m=\u001b[39m \u001b[38;5;241m7\u001b[39m\n\u001b[0;32m--> 161\u001b[0m \u001b[38;5;28mself\u001b[39m\u001b[38;5;241m.\u001b[39mmask \u001b[38;5;241m=\u001b[39m \u001b[43mtorch\u001b[49m\u001b[38;5;241;43m.\u001b[39;49m\u001b[43mnn\u001b[49m\u001b[38;5;241;43m.\u001b[39;49m\u001b[43mTransformer\u001b[49m\u001b[38;5;241;43m.\u001b[39;49m\u001b[43mgenerate_square_subsequent_mask\u001b[49m\u001b[43m(\u001b[49m\u001b[43msz\u001b[49m\u001b[38;5;241;43m=\u001b[39;49m\u001b[43msequence_length\u001b[49m\u001b[43m)\u001b[49m\u001b[38;5;241;43m.\u001b[39;49m\u001b[43mto\u001b[49m\u001b[43m(\u001b[49m\u001b[43mdevice\u001b[49m\u001b[43m)\u001b[49m\n\u001b[1;32m    163\u001b[0m \u001b[38;5;28mself\u001b[39m\u001b[38;5;241m.\u001b[39mattn \u001b[38;5;241m=\u001b[39m nn\u001b[38;5;241m.\u001b[39mMultiheadAttention(embed_dim, heads, batch_first\u001b[38;5;241m=\u001b[39m\u001b[38;5;28;01mTrue\u001b[39;00m)\n",
      "\u001b[0;31mRuntimeError\u001b[0m: CUDA error: out of memory\nCUDA kernel errors might be asynchronously reported at some other API call, so the stacktrace below might be incorrect.\nFor debugging consider passing CUDA_LAUNCH_BLOCKING=1.\nCompile with `TORCH_USE_CUDA_DSA` to enable device-side assertions.\n"
     ]
    }
   ],
   "source": [
    "if use_headings:\n",
    "    model_file = 'faceforward_88143_samples-200ep-causal.pt'\n",
    "    model = PredictiveCoderWithHead()\n",
    "else:\n",
    "    model_file = 'autoencoder-facenorth_72000_samples-50ep.pt'\n",
    "    model = PredictiveCoder()\n",
    "\n",
    "model.to(device)\n",
    "model.load_state_dict(torch.load('model_files/' + model_file))\n",
    "model.eval()\n",
    "for param in model.parameters():\n",
    "    param.requires_grad = False\n",
    "    "
   ]
  },
  {
   "cell_type": "code",
   "execution_count": null,
   "id": "e9bc0cae-1ab8-4eb6-8920-fddb8022d5dd",
   "metadata": {},
   "outputs": [],
   "source": [
    "latent_preds = []\n",
    "\n",
    "latent_save_file = f'data/latents/predictive-{model_file[:-3]}.npy'\n",
    "\n",
    "with torch.no_grad():\n",
    "    for seq, _ in loader:\n",
    "        if use_headings:\n",
    "            frames, headings = seq[0].to(device), seq[1].to(device)\n",
    "            latents = model.get_latent_preds(frames, headings)\n",
    "        else:\n",
    "            frames = seq.to(device)\n",
    "            latents = model.get_latent_preds(frames)\n",
    "\n",
    "        latent_preds.append(latents)\n",
    "\n",
    "latent_preds = torch.stack(latent_preds, dim=0).numpy()\n"
   ]
  }
 ],
 "metadata": {
  "kernelspec": {
   "display_name": "Python 3 (ipykernel)",
   "language": "python",
   "name": "python3"
  },
  "language_info": {
   "codemirror_mode": {
    "name": "ipython",
    "version": 3
   },
   "file_extension": ".py",
   "mimetype": "text/x-python",
   "name": "python",
   "nbconvert_exporter": "python",
   "pygments_lexer": "ipython3",
   "version": "3.11.5"
  }
 },
 "nbformat": 4,
 "nbformat_minor": 5
}
